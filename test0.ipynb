{
 "cells": [
  {
   "cell_type": "raw",
   "metadata": {},
   "source": [
    "#检测字符串是否全为数字"
   ]
  },
  {
   "cell_type": "code",
   "execution_count": null,
   "metadata": {
    "collapsed": true
   },
   "outputs": [],
   "source": [
    "str=input('输入一个字符：')\n",
    "pattern='0123456789'\n",
    "temp=1\n",
    "for i in str:\n",
    "    if i not in pattern:\n",
    "        temp=0\n",
    "if temp:\n",
    "    print('字符串',pattern,'全为数字。')\n",
    "else:\n",
    "    print('字符串',pattern,'包含非数字。')\n",
    "            "
   ]
  },
  {
   "cell_type": "raw",
   "metadata": {},
   "source": [
    "#求阶乘"
   ]
  },
  {
   "cell_type": "code",
   "execution_count": null,
   "metadata": {
    "collapsed": true
   },
   "outputs": [],
   "source": [
    "num=int(input('输入一个正整数：'))\n",
    "times=1\n",
    "for i in range(num):\n",
    "    times=(i+1)*times\n",
    "print('阶乘为：',times)"
   ]
  },
  {
   "cell_type": "raw",
   "metadata": {},
   "source": [
    "#鸡兔同笼问题 今有鸡兔同笼，头共35，腿共94，问鸡兔几何？"
   ]
  },
  {
   "cell_type": "code",
   "execution_count": null,
   "metadata": {
    "collapsed": true
   },
   "outputs": [],
   "source": [
    "for i in range(36):\n",
    "    chiken=i\n",
    "    rabbit=35-chiken\n",
    "    if 2*chiken+4*rabbit==94:\n",
    "        print('chiken=',chiken,'rabbit=',rabbit)\n",
    "        break"
   ]
  },
  {
   "cell_type": "raw",
   "metadata": {},
   "source": [
    "#三角星号的输出"
   ]
  },
  {
   "cell_type": "code",
   "execution_count": null,
   "metadata": {
    "collapsed": true
   },
   "outputs": [],
   "source": [
    "for i in range(1,11):\n",
    "    print('*'*i)"
   ]
  },
  {
   "cell_type": "code",
   "execution_count": null,
   "metadata": {
    "collapsed": true
   },
   "outputs": [],
   "source": [
    "str=''\n",
    "for i in range(1,11):\n",
    "    for j in range(10-i):\n",
    "        str+=' '\n",
    "    for j in range(2*i-1):\n",
    "        str+='*'\n",
    "    print(str)\n",
    "    str=''"
   ]
  },
  {
   "cell_type": "code",
   "execution_count": null,
   "metadata": {
    "collapsed": true
   },
   "outputs": [],
   "source": [
    "str=''\n",
    "for i in range(1,11):\n",
    "    if i<6:\n",
    "        for j in range(5-i):\n",
    "            str+=' '\n",
    "        for j in range(2*i-1):\n",
    "            str+='*'\n",
    "        print(str)\n",
    "    else:\n",
    "        for j in range(i-6):\n",
    "            str+=' '\n",
    "        for j in range(21-2*i):\n",
    "            str+='*'\n",
    "        print(str)\n",
    "    str=''"
   ]
  },
  {
   "cell_type": "raw",
   "metadata": {},
   "source": [
    "#约瑟夫环问题"
   ]
  },
  {
   "cell_type": "code",
   "execution_count": null,
   "metadata": {
    "collapsed": true
   },
   "outputs": [],
   "source": [
    "delete_list=[]\n",
    "j=0\n",
    "while len(delete_list)<39:\n",
    "    for x in range(1,42):\n",
    "        if x not in delete_list:\n",
    "            j=j+1\n",
    "        if j==3:\n",
    "            delete_list.append(x)\n",
    "            j=0\n",
    "print(set(range(1,42))-set(delete_list))\n",
    "print(delete_list)            "
   ]
  },
  {
   "cell_type": "code",
   "execution_count": null,
   "metadata": {
    "collapsed": true
   },
   "outputs": [],
   "source": [
    "delete_list=[]\n",
    "while len(delete_list)<99:\n",
    "    j=0\n",
    "    for x in range(1,101):\n",
    "        if x not in delete_list:\n",
    "            j=j+1\n",
    "            if j%2!=0:\n",
    "                delete_list.append(x)\n",
    "print(set(range(1,101))-set(delete_list))"
   ]
  },
  {
   "cell_type": "raw",
   "metadata": {},
   "source": [
    "#字符查找"
   ]
  },
  {
   "cell_type": "code",
   "execution_count": 2,
   "metadata": {},
   "outputs": [
    {
     "name": "stdout",
     "output_type": "stream",
     "text": [
      "输入一个字符串（quit退出）：rfs\n",
      "输入要查找的字符：r\n",
      "输入字符 rfs 包含 r\n",
      "输入一个字符串（quit退出）：quit\n",
      "输入要查找的字符：d\n"
     ]
    }
   ],
   "source": [
    "while True:\n",
    "    str=input('输入一个字符串（quit退出）：')\n",
    "    temp=input('输入要查找的字符：')\n",
    "    if str=='quit':\n",
    "        break\n",
    "    if str.find(temp)==-1:\n",
    "        print('输入字符不包含',temp)\n",
    "    else:\n",
    "        print('输入字符',str,'包含',str[str.find(temp)])"
   ]
  },
  {
   "cell_type": "raw",
   "metadata": {},
   "source": [
    "#标准输入输出"
   ]
  },
  {
   "cell_type": "code",
   "execution_count": 4,
   "metadata": {},
   "outputs": [
    {
     "name": "stdout",
     "output_type": "stream",
     "text": [
      "输入时间（h:m:s）：12:34:00\n",
      "12 时34分00秒\n"
     ]
    }
   ],
   "source": [
    "hour,minute,second=input('输入时间（h:m:s）：').split(':')\n",
    "print(hour+'时'+minute+'分'+second+'秒')"
   ]
  },
  {
   "cell_type": "raw",
   "metadata": {},
   "source": [
    "#异常处理"
   ]
  },
  {
   "cell_type": "code",
   "execution_count": 14,
   "metadata": {},
   "outputs": [
    {
     "name": "stdout",
     "output_type": "stream",
     "text": [
      "输入你的年龄：-6\n",
      "你输入了负数-6\n",
      "加油\n",
      "输入你的年龄：hg\n",
      "请输入自然数\n",
      "加油\n",
      "输入你的年龄：56\n",
      "你的年龄是56，你生于1962年\n",
      "加油\n",
      "程序正常\n"
     ]
    }
   ],
   "source": [
    "import datetime\n",
    "class BadException(Exception):\n",
    "    pass\n",
    "while True:\n",
    "    try:\n",
    "        age=int(input('输入你的年龄：'))\n",
    "        if age<=0:\n",
    "            raise BadException('你输入了负数%d'%age)\n",
    "    except BadException as x:\n",
    "        print(x)\n",
    "    except ValueError:\n",
    "        print('请输入自然数')\n",
    "    else:\n",
    "        print('你的年龄是%d，你生于%d年'%(age,datetime.date.today().year-age))\n",
    "        break\n",
    "    finally:\n",
    "        print('加油')\n",
    "print('程序正常')"
   ]
  },
  {
   "cell_type": "raw",
   "metadata": {},
   "source": [
    "#随机猜数"
   ]
  },
  {
   "cell_type": "code",
   "execution_count": 3,
   "metadata": {},
   "outputs": [
    {
     "name": "stdout",
     "output_type": "stream",
     "text": [
      "第1次输入：50\n",
      "大了\n",
      "第2次输入：25\n",
      "小了\n",
      "第3次输入：37\n",
      "大了\n",
      "第4次输入：31\n",
      "小了\n",
      "第5次输入：34\n",
      "小了\n",
      "第6次输入：35\n",
      "猜对了35\n",
      "恭喜\n"
     ]
    }
   ],
   "source": [
    "import random\n",
    "def compare(temp,x):\n",
    "    if x>temp:\n",
    "        return 1\n",
    "    elif x==temp:\n",
    "        return 0\n",
    "    else:\n",
    "        return -1\n",
    "count=1\n",
    "temp=random.randint(1,100)\n",
    "while count<=10:\n",
    "    x=int(input('第%d次输入：'%count))\n",
    "    result=compare(temp,x)\n",
    "    if result==1:\n",
    "        print('大了')\n",
    "    elif result==-1:\n",
    "        print('小了')\n",
    "    else:\n",
    "        print('猜对了%d'%x)\n",
    "        break\n",
    "    count+=1\n",
    "if count>10:\n",
    "    print('您已达到最大次数')\n",
    "else:\n",
    "    print('恭喜')\n",
    "    "
   ]
  },
  {
   "cell_type": "raw",
   "metadata": {},
   "source": [
    "#调用函数时所提供的参数是一般变量，向函数传递的是变量的值，函数内的修改不会影响到该函数外变量的值。\n",
    "#若将列表作为函数的参数，向函数传递的是列表的引用地址，函数内对它的操作将直接改变函数外该列表的值。"
   ]
  },
  {
   "cell_type": "code",
   "execution_count": 44,
   "metadata": {},
   "outputs": [
    {
     "name": "stdout",
     "output_type": "stream",
     "text": [
      "请输入一个整数：23\n",
      "输入23后: [1, 4, 6, 9, 13, 16, 23, 28, 40, 100]\n"
     ]
    }
   ],
   "source": [
    "def insertlist(L,x):\n",
    "    if x>=L[-1]:\n",
    "        L.append(x)\n",
    "        return\n",
    "    for i in range(len(L)):\n",
    "        if x<L[i]:\n",
    "            L.insert(i,x)\n",
    "            break\n",
    "    return\n",
    "x=int(input('请输入一个整数：'))\n",
    "L=[1,4,6,9,13,16,28,40,100]\n",
    "insertlist(L,x)\n",
    "print('输入%d后:'%x,L)"
   ]
  },
  {
   "cell_type": "raw",
   "metadata": {},
   "source": [
    "#datetime模块"
   ]
  },
  {
   "cell_type": "code",
   "execution_count": 27,
   "metadata": {},
   "outputs": [
    {
     "name": "stdout",
     "output_type": "stream",
     "text": [
      "2018-08-23 00:00:00\n"
     ]
    }
   ],
   "source": [
    "import datetime\n",
    "d1=datetime.datetime(1994,9,6)\n",
    "d2=datetime.datetime.strftime(datetime.datetime.today(),'%Y-%m-%d %X')\n",
    "d2=datetime.datetime.strptime(d2,'%Y-%m-%d %X')\n",
    "days=(d2-d1).days\n",
    "print(d1+datetime.timedelta(days))"
   ]
  },
  {
   "cell_type": "raw",
   "metadata": {},
   "source": [
    "#random模块"
   ]
  },
  {
   "cell_type": "code",
   "execution_count": 37,
   "metadata": {},
   "outputs": [
    {
     "name": "stdout",
     "output_type": "stream",
     "text": [
      "[5, 3, 4, 1, 2]\n"
     ]
    }
   ],
   "source": [
    "import random\n",
    "random.random()#用于生成0-1的随机小数\n",
    "random.randint(1,30)#用于生成1-30的随机整数\n",
    "random.uniform(1,10)#用于生成1-10的随机数\n",
    "random.choice(['可爱','美丽','聪明'])#用于从列表中随机选择\n",
    "random.randrange(1,100,2)#从指定范围内，按指定步长获取随机数\n",
    "random.sample(['v','e','c','a'],2)#从给定列表中随机不重复地获取2个字符\n",
    "a=[1,2,3,4,5]\n",
    "random.shuffle(a)\n",
    "print(a)"
   ]
  },
  {
   "cell_type": "raw",
   "metadata": {
    "collapsed": true
   },
   "source": [
    "#折半查找法"
   ]
  },
  {
   "cell_type": "code",
   "execution_count": 9,
   "metadata": {},
   "outputs": [
    {
     "data": {
      "text/plain": [
       "1"
      ]
     },
     "execution_count": 9,
     "metadata": {},
     "output_type": "execute_result"
    }
   ],
   "source": [
    "9//5"
   ]
  },
  {
   "cell_type": "code",
   "execution_count": 1,
   "metadata": {},
   "outputs": [
    {
     "name": "stdout",
     "output_type": "stream",
     "text": [
      "54\n",
      "13\n",
      "5\n",
      "7\n",
      "-1\n"
     ]
    }
   ],
   "source": [
    "def halffind(x,temp):\n",
    "    left=0\n",
    "    right=len(x)-1\n",
    "    while left<=right:\n",
    "        mid=(left+right)//2\n",
    "        print(x[mid])\n",
    "        if x[mid]>temp:\n",
    "            right=mid-1\n",
    "        elif x[mid]<temp:\n",
    "            left=mid+1\n",
    "        else:\n",
    "            return mid\n",
    "    return -1\n",
    "x=[5,7,13,25,32,46,54,62,78,83,88,91,99]\n",
    "temp=9\n",
    "print(halffind(x,temp))"
   ]
  },
  {
   "cell_type": "code",
   "execution_count": 33,
   "metadata": {},
   "outputs": [
    {
     "name": "stdout",
     "output_type": "stream",
     "text": [
      "5\n",
      "7\n",
      "13\n",
      "25\n",
      "32\n",
      "4\n"
     ]
    }
   ],
   "source": [
    "def find(x,temp):\n",
    "    j=1\n",
    "    for i in range(len(x)):\n",
    "        print(x[i])\n",
    "        if x[i]==temp:\n",
    "            j=0\n",
    "            return i\n",
    "    if j:\n",
    "        return -1\n",
    "x=[5,7,13,25,32,46,54,62,78,83,88,91,99]\n",
    "temp=32\n",
    "print(find(x,temp))"
   ]
  },
  {
   "cell_type": "raw",
   "metadata": {},
   "source": [
    "#冒泡排序法"
   ]
  },
  {
   "cell_type": "code",
   "execution_count": 35,
   "metadata": {},
   "outputs": [
    {
     "name": "stdout",
     "output_type": "stream",
     "text": [
      "[49, 38, 65, 97, 76, 13, 27, 49]\n",
      "[38, 49, 65, 76, 13, 27, 49, 97]\n",
      "[38, 49, 65, 13, 27, 49, 76, 97]\n",
      "[38, 49, 13, 27, 49, 65, 76, 97]\n",
      "[38, 13, 27, 49, 49, 65, 76, 97]\n",
      "[13, 27, 38, 49, 49, 65, 76, 97]\n",
      "[13, 27, 38, 49, 49, 65, 76, 97]\n",
      "[13, 27, 38, 49, 49, 65, 76, 97]\n"
     ]
    }
   ],
   "source": [
    "def bubble(x):\n",
    "    for j in range(len(x)-1,0,-1):\n",
    "        print(x)\n",
    "        for i in range(j):\n",
    "            if x[i]>x[i+1]:\n",
    "                x[i],x[i+1]=x[i+1],x[i]\n",
    "    return \n",
    "x=[49,38,65,97,76,13,27,49]\n",
    "bubble(x)\n",
    "print(x)"
   ]
  },
  {
   "cell_type": "raw",
   "metadata": {},
   "source": [
    "#插入排序法"
   ]
  },
  {
   "cell_type": "code",
   "execution_count": 47,
   "metadata": {},
   "outputs": [
    {
     "name": "stdout",
     "output_type": "stream",
     "text": [
      "[31, 45, 35, 56, 37, 69, 310, 21, 12]\n",
      "[31, 45, 35, 56, 37, 69, 310, 21, 12]\n",
      "[31, 35, 45, 56, 37, 69, 310, 21, 12]\n",
      "[31, 35, 45, 56, 37, 69, 310, 21, 12]\n",
      "[31, 35, 37, 45, 56, 69, 310, 21, 12]\n",
      "[31, 35, 37, 45, 56, 69, 310, 21, 12]\n",
      "[31, 35, 37, 45, 56, 69, 310, 21, 12]\n",
      "[21, 31, 35, 37, 45, 56, 69, 310, 12]\n",
      "[12, 21, 31, 35, 37, 45, 56, 69, 310]\n"
     ]
    }
   ],
   "source": [
    "def insertionsort(x):\n",
    "    for j in range(1,len(x)):\n",
    "        print(x)\n",
    "        key=x[j]\n",
    "        i=j-1\n",
    "        while i>=0 and key<x[i]:\n",
    "            x[i+1]=x[i]\n",
    "            i=i-1\n",
    "        x[i+1]=key\n",
    "    return x\n",
    "x=[31,45,35,56,37,69,310,21,12]\n",
    "print(insertionsort(x))"
   ]
  },
  {
   "cell_type": "raw",
   "metadata": {},
   "source": [
    "#斐波那契数列"
   ]
  },
  {
   "cell_type": "code",
   "execution_count": 49,
   "metadata": {},
   "outputs": [
    {
     "name": "stdout",
     "output_type": "stream",
     "text": [
      "1\n",
      "2\n",
      "3\n",
      "5\n",
      "8\n",
      "13\n",
      "21\n",
      "34\n",
      "55\n",
      "89\n",
      "144\n",
      "233\n",
      "377\n",
      "610\n",
      "987\n",
      "1597\n",
      "17\n"
     ]
    }
   ],
   "source": [
    "def fib(n):\n",
    "    a=1;b=1\n",
    "    count=1\n",
    "    while b<=n:\n",
    "        print(b)\n",
    "        a,b=b,a+b\n",
    "        count+=1\n",
    "    return count\n",
    "print(fib(2014))\n",
    "    "
   ]
  },
  {
   "cell_type": "code",
   "execution_count": 68,
   "metadata": {},
   "outputs": [
    {
     "name": "stdout",
     "output_type": "stream",
     "text": [
      "8\n",
      "15\n"
     ]
    }
   ],
   "source": [
    "count=0\n",
    "def fib(n):\n",
    "    global count\n",
    "    count+=1\n",
    "    if n==0 or n==1:\n",
    "        return 1\n",
    "    else:\n",
    "        return fib(n-1)+fib(n-2)\n",
    "print(fib(5))\n",
    "print(count)"
   ]
  },
  {
   "cell_type": "code",
   "execution_count": 73,
   "metadata": {},
   "outputs": [
    {
     "name": "stdout",
     "output_type": "stream",
     "text": [
      "2 2\n",
      "3 3\n",
      "4 5\n",
      "5 8\n",
      "8\n",
      "9\n"
     ]
    }
   ],
   "source": [
    "previous={0:1,1:1}\n",
    "count=0\n",
    "def fib(n):\n",
    "    global count\n",
    "    count+=1\n",
    "    if n in previous:\n",
    "        return previous[n]\n",
    "    else:\n",
    "        newvalue=fib(n-1)+fib(n-2)\n",
    "        previous[n]=newvalue\n",
    "        print(n,newvalue)\n",
    "        return newvalue\n",
    "print(fib(5))\n",
    "print(count)"
   ]
  },
  {
   "cell_type": "raw",
   "metadata": {},
   "source": [
    "#递归算法"
   ]
  },
  {
   "cell_type": "code",
   "execution_count": 57,
   "metadata": {},
   "outputs": [
    {
     "name": "stdout",
     "output_type": "stream",
     "text": [
      "1:\ta->b\t2:\ta->c\t3:\tb->c\t"
     ]
    }
   ],
   "source": [
    "count=1\n",
    "def hanoi(num,a,b,c):\n",
    "    global count\n",
    "    if num<1:\n",
    "        print(False)\n",
    "    elif num==1:\n",
    "        print('%d:\\t%s->%s'%(count,a,c),end='\\t')\n",
    "        count+=1\n",
    "    else:\n",
    "        hanoi(num-1,a,c,b)\n",
    "        hanoi(1,a,b,c)\n",
    "        hanoi(num-1,b,a,c)\n",
    "hanoi(2,'a','b','c')"
   ]
  },
  {
   "cell_type": "raw",
   "metadata": {},
   "source": [
    "#选择排序法"
   ]
  },
  {
   "cell_type": "code",
   "execution_count": 59,
   "metadata": {},
   "outputs": [
    {
     "name": "stdout",
     "output_type": "stream",
     "text": [
      "iteration #0: [13, 38, 49, 97, 76, 49, 27, 65]\n",
      "iteration #1: [13, 27, 49, 97, 76, 49, 38, 65]\n",
      "iteration #2: [13, 27, 38, 97, 76, 49, 49, 65]\n",
      "iteration #3: [13, 27, 38, 49, 76, 97, 49, 65]\n",
      "iteration #4: [13, 27, 38, 49, 49, 97, 76, 65]\n",
      "iteration #5: [13, 27, 38, 49, 49, 65, 76, 97]\n",
      "iteration #6: [13, 27, 38, 49, 49, 65, 76, 97]\n",
      "total 6 swapping\n"
     ]
    }
   ],
   "source": [
    "def selection(x):\n",
    "    count=0\n",
    "    for i in range(0,len(x)-1):\n",
    "        min_index=i\n",
    "        for j in range(i+1,len(x)):\n",
    "            if x[j]<x[min_index]:\n",
    "                min_index=j\n",
    "        if min_index!=i:\n",
    "            x[min_index],x[i]=x[i],x[min_index]\n",
    "            count+=1\n",
    "        print('iteration #{}: {}'.format(i,x))\n",
    "    print('total {} swapping'.format(count))\n",
    "x=[49,38,49,97,76,13,27,65]\n",
    "selection(x)"
   ]
  }
 ],
 "metadata": {
  "kernelspec": {
   "display_name": "Python 3",
   "language": "python",
   "name": "python3"
  },
  "language_info": {
   "codemirror_mode": {
    "name": "ipython",
    "version": 3
   },
   "file_extension": ".py",
   "mimetype": "text/x-python",
   "name": "python",
   "nbconvert_exporter": "python",
   "pygments_lexer": "ipython3",
   "version": "3.6.1"
  }
 },
 "nbformat": 4,
 "nbformat_minor": 2
}
