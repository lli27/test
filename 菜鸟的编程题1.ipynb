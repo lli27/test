{
 "cells": [
  {
   "cell_type": "markdown",
   "metadata": {},
   "source": [
    "# 题目描述\n",
    "设有n个正整数，将他们连接成一排，组成一个最大的多位整数。  \n",
    "如:n=3时，3个整数13,312,343,连成的最大整数为34331213。  \n",
    "如:n=4时,4个整数7,13,4,246连接成的最大整数为7424613。    \n",
    "输入\n",
    "2  \n",
    "12 123  \n",
    "输出  \n",
    "12312"
   ]
  },
  {
   "cell_type": "code",
   "execution_count": 103,
   "metadata": {},
   "outputs": [
    {
     "name": "stdout",
     "output_type": "stream",
     "text": [
      "4\n",
      "7 4 13 246\n",
      "7424613\n"
     ]
    }
   ],
   "source": [
    "from functools import cmp_to_key\n",
    "\n",
    "def mycmp(x, y):\n",
    "    if x + y > y + x:        return 1\n",
    "    elif x == y:        return 0\n",
    "    else:        return -1\n",
    "    \n",
    "n=int(input())\n",
    "v=input()\n",
    "v = v.split()\n",
    "v.sort(key=cmp_to_key(mycmp), reverse=True)\n",
    "print(\"\".join(v))"
   ]
  },
  {
   "cell_type": "code",
   "execution_count": 31,
   "metadata": {},
   "outputs": [
    {
     "name": "stdout",
     "output_type": "stream",
     "text": [
      "7424613\n"
     ]
    }
   ],
   "source": [
    "from functools import cmp_to_key\n",
    "import sys\n",
    "def mycmp(x, y):\n",
    "    if x+y > y+x:        \n",
    "        return 1\n",
    "    elif x+y == y+x:        \n",
    "        return 0\n",
    "    else:       \n",
    "        return -1\n",
    "    \n",
    "for i,v in enumerate(sys.stdin.readlines()):\n",
    "    if i%2==1:\n",
    "        v = v.strip().split()\n",
    "        v.sort(key=cmp_to_key(mycmp), reverse=True)\n",
    "print(\"\".join(v))"
   ]
  },
  {
   "cell_type": "markdown",
   "metadata": {},
   "source": [
    "类似于冒泡排序法"
   ]
  },
  {
   "cell_type": "code",
   "execution_count": 102,
   "metadata": {},
   "outputs": [
    {
     "name": "stdout",
     "output_type": "stream",
     "text": [
      "4\n",
      "7 13 4 246\n",
      "7424613\n"
     ]
    }
   ],
   "source": [
    "n=int(input())\n",
    "v=input()\n",
    "v=v.split()\n",
    "max_s=[]\n",
    "def find(x):\n",
    "    global max_s\n",
    "    if len(x)<1:\n",
    "        return\n",
    "    a=x[0]\n",
    "    for b in x:\n",
    "        if a+b<b+a:\n",
    "            a=b\n",
    "    max_s.append(a)\n",
    "    x.remove(a)\n",
    "    find(x)\n",
    "    return max_s\n",
    "print(\"\".join(find(v)))"
   ]
  },
  {
   "cell_type": "markdown",
   "metadata": {},
   "source": [
    "1.两种输入方式：\n",
    "input() 控制台输入，一次只输入一行\n",
    "sys.stdin.readlines() 系统输入，读取所有行；sys.stdin.readline() 读取一行\n",
    "sys.stdin.readlines( )会将标准输入全部获取，包括末尾的'\\n'，strip()去除首尾空格和'\\n'.\n",
    "2.enumerate(sequence, [start=0])\n",
    "用于将一个可遍历的数据对象(如列表、元组或字符串)组合为一个索引序列，同时列出数据和数据下标，一般用在 for 循环当中。\n",
    "sequence -- 一个序列、迭代器或其他支持迭代对象。\n",
    "start -- 下标起始位置。"
   ]
  },
  {
   "cell_type": "markdown",
   "metadata": {},
   "source": [
    "# sort()与sorted()\n",
    "1.sort()只对列表排序，sorted()可对任意可迭代的序列排序\n",
    "2.sort()对列表排序，会修改列表本身，sorted()是对原有序列进行复制，排序，不会改变原有序列。不需要保留原有序列时，sort()比sorted()更有效。"
   ]
  },
  {
   "cell_type": "markdown",
   "metadata": {},
   "source": [
    "一，简单排序\n",
    "默认为升序，由小到大。reverse=True，为降序，由大到小。"
   ]
  },
  {
   "cell_type": "code",
   "execution_count": 53,
   "metadata": {},
   "outputs": [
    {
     "name": "stdout",
     "output_type": "stream",
     "text": [
      "[1, 2, 3, 4, 5]\n",
      "[3, 5, 1, 4, 2]\n"
     ]
    }
   ],
   "source": [
    "my_list=[3,5,1,4,2]\n",
    "result=sorted(my_list)\n",
    "print(result)\n",
    "print(my_list)"
   ]
  },
  {
   "cell_type": "code",
   "execution_count": 58,
   "metadata": {},
   "outputs": [
    {
     "name": "stdout",
     "output_type": "stream",
     "text": [
      "None\n",
      "[1, 2, 3, 4, 5]\n"
     ]
    }
   ],
   "source": [
    "my_list=[3,5,1,4,2]\n",
    "print(my_list.sort())\n",
    "print(my_list)"
   ]
  },
  {
   "cell_type": "markdown",
   "metadata": {},
   "source": [
    "sorted()对字典按照key值进行排序,返回一个对key值排好序的list"
   ]
  },
  {
   "cell_type": "code",
   "execution_count": 54,
   "metadata": {},
   "outputs": [
    {
     "name": "stdout",
     "output_type": "stream",
     "text": [
      "['a', 'b', 'r']\n"
     ]
    }
   ],
   "source": [
    "my_dict={'a':1,'b':4,'r':2}\n",
    "result=sorted(my_dict)\n",
    "print(result)"
   ]
  },
  {
   "cell_type": "markdown",
   "metadata": {},
   "source": [
    "二，key参数\n",
    "key参数的值为一个函数，此函数只有一个参数且返回一个值用来进行比较。"
   ]
  },
  {
   "cell_type": "markdown",
   "metadata": {},
   "source": [
    "按照指定的列进行排序"
   ]
  },
  {
   "cell_type": "code",
   "execution_count": 55,
   "metadata": {},
   "outputs": [
    {
     "name": "stdout",
     "output_type": "stream",
     "text": [
      "[('dave', 'B', 10), ('jane', 'B', 12), ('john', 'A', 15)]\n"
     ]
    }
   ],
   "source": [
    "student_tuples=[('john','A',15),('jane','B',12),('dave','B',10)]\n",
    "result=sorted(student_tuples,key=lambda student:student[2])\n",
    "print(result)"
   ]
  },
  {
   "cell_type": "markdown",
   "metadata": {},
   "source": [
    "lambda student:student[2]等价于\n",
    "def f(student):\n",
    "    return student[2]"
   ]
  },
  {
   "cell_type": "code",
   "execution_count": 78,
   "metadata": {},
   "outputs": [
    {
     "data": {
      "text/plain": [
       "[('dave', 'B', 10), ('jane', 'B', 12), ('john', 'A', 15)]"
      ]
     },
     "execution_count": 78,
     "metadata": {},
     "output_type": "execute_result"
    }
   ],
   "source": [
    "class Student:\n",
    "    def __init__(self, name, grade, age):\n",
    "        self.name = name\n",
    "        self.grade = grade\n",
    "        self.age = age\n",
    "    def __repr__(self):\n",
    "        return repr((self.name, self.grade, self.age))\n",
    "student_objects = [\n",
    "    Student('john', 'A', 15),\n",
    "    Student('jane', 'B', 12),\n",
    "    Student('dave', 'B', 10),\n",
    "]\n",
    "sorted(student_objects, key=lambda student: student.age)"
   ]
  },
  {
   "cell_type": "code",
   "execution_count": 57,
   "metadata": {},
   "outputs": [
    {
     "name": "stdout",
     "output_type": "stream",
     "text": [
      "['a', 'r', 'b']\n"
     ]
    }
   ],
   "source": [
    "my_dict={'a':1,'b':4,'r':2}\n",
    "result=sorted(my_dict,key=lambda x:my_dict[x])#指定key参数，按字典的值排序\n",
    "print(result)"
   ]
  },
  {
   "cell_type": "code",
   "execution_count": 59,
   "metadata": {},
   "outputs": [
    {
     "data": {
      "text/plain": [
       "['a', 'Andrew', 'from', 'is', 'string', 'test', 'This']"
      ]
     },
     "execution_count": 59,
     "metadata": {},
     "output_type": "execute_result"
    }
   ],
   "source": [
    "sorted('This is a test string from Andrew'.split(),key=str.lower)"
   ]
  },
  {
   "cell_type": "markdown",
   "metadata": {},
   "source": [
    "operater提供函数方便指定key的参数"
   ]
  },
  {
   "cell_type": "code",
   "execution_count": 80,
   "metadata": {},
   "outputs": [
    {
     "data": {
      "text/plain": [
       "[('dave', 'B', 10), ('jane', 'B', 12), ('john', 'A', 15)]"
      ]
     },
     "execution_count": 80,
     "metadata": {},
     "output_type": "execute_result"
    }
   ],
   "source": [
    "from operator import itemgetter,attrgetter\n",
    "sorted(student_tuples,key=itemgetter(2))"
   ]
  },
  {
   "cell_type": "code",
   "execution_count": 82,
   "metadata": {},
   "outputs": [
    {
     "data": {
      "text/plain": [
       "[('dave', 'B', 10), ('jane', 'B', 12), ('john', 'A', 15)]"
      ]
     },
     "execution_count": 82,
     "metadata": {},
     "output_type": "execute_result"
    }
   ],
   "source": [
    "sorted(student_objects,key=attrgetter('age'))"
   ]
  },
  {
   "cell_type": "code",
   "execution_count": 83,
   "metadata": {},
   "outputs": [
    {
     "data": {
      "text/plain": [
       "[('john', 'A', 15), ('dave', 'B', 10), ('jane', 'B', 12)]"
      ]
     },
     "execution_count": 83,
     "metadata": {},
     "output_type": "execute_result"
    }
   ],
   "source": [
    "sorted(student_tuples, key=itemgetter(1,2))"
   ]
  },
  {
   "cell_type": "code",
   "execution_count": 84,
   "metadata": {},
   "outputs": [
    {
     "data": {
      "text/plain": [
       "[('john', 'A', 15), ('dave', 'B', 10), ('jane', 'B', 12)]"
      ]
     },
     "execution_count": 84,
     "metadata": {},
     "output_type": "execute_result"
    }
   ],
   "source": [
    "sorted(student_objects, key=attrgetter('grade', 'age'))"
   ]
  },
  {
   "cell_type": "markdown",
   "metadata": {},
   "source": [
    "key=cmp_to_key(function)定义比较函数，cmp_to_key()定义的比较函数有两个参数输入"
   ]
  },
  {
   "cell_type": "code",
   "execution_count": 4,
   "metadata": {},
   "outputs": [],
   "source": [
    "from functools import cmp_to_key"
   ]
  },
  {
   "cell_type": "code",
   "execution_count": 5,
   "metadata": {},
   "outputs": [
    {
     "data": {
      "text/plain": [
       "[5, 4, 3, 2, 1]"
      ]
     },
     "execution_count": 5,
     "metadata": {},
     "output_type": "execute_result"
    }
   ],
   "source": [
    "def reverse(x,y):\n",
    "    return y-x#返回值>0,则x,y交换位置。\n",
    "sorted([5,2,4,1,3],key=cmp_to_key(reverse))"
   ]
  },
  {
   "cell_type": "code",
   "execution_count": 8,
   "metadata": {},
   "outputs": [
    {
     "data": {
      "text/plain": [
       "[5, 4, 3, 2, 1]"
      ]
     },
     "execution_count": 8,
     "metadata": {},
     "output_type": "execute_result"
    }
   ],
   "source": [
    "sorted([5,2,4,1,3],key=cmp_to_key(lambda x,y:y-x))#较简单的函数可以用lambda"
   ]
  },
  {
   "cell_type": "markdown",
   "metadata": {},
   "source": [
    "key中的参数还可以由其他源指定"
   ]
  },
  {
   "cell_type": "code",
   "execution_count": 1,
   "metadata": {},
   "outputs": [
    {
     "data": {
      "text/plain": [
       "['jane', 'dave', 'john']"
      ]
     },
     "execution_count": 1,
     "metadata": {},
     "output_type": "execute_result"
    }
   ],
   "source": [
    "students = ['dave', 'john', 'jane']\n",
    "newgrades = {'john': 'F', 'jane':'A', 'dave': 'C'}\n",
    "sorted(students, key=newgrades.__getitem__)#function dict.__getitem__作用于字典的函数"
   ]
  },
  {
   "cell_type": "markdown",
   "metadata": {},
   "source": [
    "# map()与lambda()    \n",
    "lambda argument_list: expression argument_list是参数列表，参数的形式不限。expression是关于参数的表达式，只能是单行的。<br>\n",
    "1、lambda函数没有名字<br>\n",
    "2、lambda函数有输入，输出，输入时argument_list的值，输出是expression计算得到的值。<br>\n",
    "3、lambda函数是单行的，只能编写简单的函数<br>\n",
    "示例：\n",
    "lambda x,y：x+y;函数输入是x,y,输出是x+y<br>\n",
    "lambda: None;函数没有输入参数<br>\n",
    "lambda \\*args: sum(args);输入是任意个数的参数，输出是它们的和<br>\n",
    "lambda \\*\\*kwargs: 1;输入是任意键值对参数，输出是1<br>\n",
    "用法：<br>"
   ]
  },
  {
   "cell_type": "markdown",
   "metadata": {},
   "source": [
    "1.将lambda函数赋值给一个变量，通过这个变量间接调用lambda函数"
   ]
  },
  {
   "cell_type": "code",
   "execution_count": 11,
   "metadata": {},
   "outputs": [
    {
     "data": {
      "text/plain": [
       "3"
      ]
     },
     "execution_count": 11,
     "metadata": {},
     "output_type": "execute_result"
    }
   ],
   "source": [
    "add=lambda x,y: x+y\n",
    "add(1,2)"
   ]
  },
  {
   "cell_type": "markdown",
   "metadata": {},
   "source": [
    "2.将lambda函数作为参数传递给其它函数"
   ]
  },
  {
   "cell_type": "markdown",
   "metadata": {},
   "source": [
    "filter(function,iterable)<br>\n",
    "function-判断函数，iterable-可迭代对象。\n",
    "返回的是一个 filter 类。要转换为list才能看到具体输出。"
   ]
  },
  {
   "cell_type": "code",
   "execution_count": 32,
   "metadata": {},
   "outputs": [
    {
     "name": "stdout",
     "output_type": "stream",
     "text": [
      "[0, 3, 6, 9]\n"
     ]
    }
   ],
   "source": [
    "newlist=filter(lambda x:x%3==0,range(10))\n",
    "print(list(newlist))#将列表中被3整除的元素过滤出来"
   ]
  },
  {
   "cell_type": "code",
   "execution_count": 39,
   "metadata": {},
   "outputs": [
    {
     "name": "stdout",
     "output_type": "stream",
     "text": [
      "[1, 4, 9, 16, 25, 36, 49, 64, 81, 100]\n"
     ]
    }
   ],
   "source": [
    "import math\n",
    "newlist = filter(lambda x:math.sqrt(x) % 1 == 0, range(1, 101))\n",
    "print(list(newlist))#过滤出1-100中平方根是整数的数"
   ]
  },
  {
   "cell_type": "markdown",
   "metadata": {},
   "source": [
    "map(function,iterable,...)根据提供的函数对指定序列做映射<br>\n",
    "function-函数，iterable-一个或多个序列"
   ]
  },
  {
   "cell_type": "code",
   "execution_count": 41,
   "metadata": {},
   "outputs": [
    {
     "name": "stdout",
     "output_type": "stream",
     "text": [
      "[1, 4, 9, 16]\n"
     ]
    }
   ],
   "source": [
    "listnew=map(lambda x: x**2,[1,2,3,4])\n",
    "print(list(listnew))"
   ]
  },
  {
   "cell_type": "code",
   "execution_count": 42,
   "metadata": {},
   "outputs": [
    {
     "name": "stdout",
     "output_type": "stream",
     "text": [
      "[3, 7, 11, 15, 19]\n"
     ]
    }
   ],
   "source": [
    "listnew=map(lambda x,y: x+y,[1,3,5,7,9],[2,4,6,8,10])\n",
    "print(list(listnew))"
   ]
  },
  {
   "cell_type": "markdown",
   "metadata": {},
   "source": [
    "reduce(function, iterable[, initializer])函数会对参数序列中元素进行累积。<br>\n",
    "function-函数,有两个参数，iterable-可迭代对象，initializer-可选，初始参数<br>\n",
    "reduce函数和lambda表达式的组合应用，可以代替一些循环操作。"
   ]
  },
  {
   "cell_type": "code",
   "execution_count": 47,
   "metadata": {},
   "outputs": [
    {
     "data": {
      "text/plain": [
       "120"
      ]
     },
     "execution_count": 47,
     "metadata": {},
     "output_type": "execute_result"
    }
   ],
   "source": [
    "from functools import reduce\n",
    "n=5\n",
    "reduce(lambda x,y: x*y,range(1,n+1))#计算n的阶乘"
   ]
  },
  {
   "cell_type": "code",
   "execution_count": 93,
   "metadata": {},
   "outputs": [
    {
     "data": {
      "text/plain": [
       "3"
      ]
     },
     "execution_count": 93,
     "metadata": {},
     "output_type": "execute_result"
    }
   ],
   "source": [
    "sentences=['The Deep Learning textbook is a resource intended to help students and practitioners enter the field of machine learning in general and deep learning in particular.']\n",
    "sentences=map(lambda x:x.lower(),sentences)\n",
    "sentences=list(sentences)\n",
    "reduce(lambda a,x:a+x.count('learning'),sentences,0)#统计列表中learning的个数,不区分大小写。"
   ]
  }
 ],
 "metadata": {
  "kernelspec": {
   "display_name": "Python 3",
   "language": "python",
   "name": "python3"
  },
  "language_info": {
   "codemirror_mode": {
    "name": "ipython",
    "version": 3
   },
   "file_extension": ".py",
   "mimetype": "text/x-python",
   "name": "python",
   "nbconvert_exporter": "python",
   "pygments_lexer": "ipython3",
   "version": "3.6.1"
  }
 },
 "nbformat": 4,
 "nbformat_minor": 2
}
