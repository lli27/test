{
 "cells": [
  {
   "cell_type": "markdown",
   "metadata": {},
   "source": [
    "BFS广度优先搜索，DFS深度优先搜索（回溯法）\n",
    "BFS队列(queue)先进先出，DFS栈(stack)先进后出"
   ]
  },
  {
   "cell_type": "code",
   "execution_count": 9,
   "metadata": {},
   "outputs": [
    {
     "name": "stdout",
     "output_type": "stream",
     "text": [
      "B\n",
      "C\n",
      "E\n"
     ]
    }
   ],
   "source": [
    "graph={\n",
    "    'A':['B','C'],\n",
    "    'B':['A','C','D'],\n",
    "    'C':['A','B','D','E'],\n",
    "    'D':['B','C','E','F'],\n",
    "    'E':['C','D'],\n",
    "    'F':['D']\n",
    "}\n",
    "def BFS(graph,s):\n",
    "    queue=[]\n",
    "    queue.append(s)\n",
    "    seen=set()\n",
    "    seen.add(s)#注意列表和集合添加元素的方式不同。\n",
    "    parent={s:None}\n",
    "    while queue:\n",
    "        vertex=queue.pop(0)#用append,pop(0)模拟队列。\n",
    "        nodes=graph[vertex]\n",
    "        for w in nodes:\n",
    "            if w not in seen:\n",
    "                queue.append(w)\n",
    "                seen.add(w)\n",
    "                parent[w]=vertex\n",
    "    return parent\n",
    "parent=BFS(graph,'E')\n",
    "v='B'\n",
    "while v:\n",
    "    print(v)\n",
    "    v=parent[v]"
   ]
  },
  {
   "cell_type": "code",
   "execution_count": 3,
   "metadata": {},
   "outputs": [
    {
     "name": "stdout",
     "output_type": "stream",
     "text": [
      "A\n",
      "C\n",
      "E\n",
      "D\n",
      "F\n",
      "B\n"
     ]
    }
   ],
   "source": [
    "def DFS(graph,s):\n",
    "    stack=[]\n",
    "    stack.append(s)\n",
    "    seen=set()\n",
    "    seen.add(s)#注意列表和集合添加元素的方式不同。\n",
    "    while stack:\n",
    "        vertex=stack.pop()#用append,pop()模拟栈。\n",
    "        nodes=graph[vertex]\n",
    "        for w in nodes:\n",
    "            if w not in seen:\n",
    "                stack.append(w)\n",
    "                seen.add(w)\n",
    "        print(vertex)\n",
    "DFS(graph,'A')"
   ]
  },
  {
   "cell_type": "markdown",
   "metadata": {},
   "source": [
    "priority-queue优先队列算法，权重小的放在队列前面。python中用内置函数heapq实现，默认为小根堆。heap[k]<=heap[2\\*k+1],heap[k]<=heap[2\\*k+2].heapq means heap(堆) queue(队列)"
   ]
  },
  {
   "cell_type": "code",
   "execution_count": 10,
   "metadata": {},
   "outputs": [
    {
     "name": "stdout",
     "output_type": "stream",
     "text": [
      "{'A': None, 'B': 'C', 'C': 'A', 'D': 'B', 'E': 'D', 'F': 'D'}\n",
      "{'A': 0, 'B': 3, 'C': 1, 'D': 4, 'E': 7, 'F': 10}\n"
     ]
    }
   ],
   "source": [
    "import heapq\n",
    "import math\n",
    "graph={\n",
    "    'A':{'B':5,'C':1},\n",
    "    'B':{'A':5,'C':2,'D':1},\n",
    "    'C':{'A':1,'B':2,'D':4,'E':8},\n",
    "    'D':{'B':1,'C':4,'E':3,'F':6},\n",
    "    'E':{'C':8,'D':3},\n",
    "    'F':{'D':6}\n",
    "}\n",
    "def init_distance(graph,s):\n",
    "    distance={s:0}\n",
    "    for vertex in graph:\n",
    "        if vertex != s:\n",
    "            distance[vertex]=math.inf\n",
    "    return distance\n",
    "def dijkstra(graph,s):\n",
    "    pqueue=[]\n",
    "    heapq.heappush(pqueue,(0,s))\n",
    "    seen=set()\n",
    "    parent={s:None}\n",
    "    distance=init_distance(graph,s)\n",
    "    while pqueue:\n",
    "        pair=heapq.heappop(pqueue)\n",
    "        dist=pair[0]\n",
    "        vertex=pair[1]\n",
    "        seen.add(vertex)\n",
    "        nodes=graph[vertex].keys()\n",
    "        for w in nodes:\n",
    "            if w not in seen:\n",
    "                if dist+graph[vertex][w]<distance[w]:\n",
    "                    heapq.heappush(pqueue,(dist+graph[vertex][w],w))\n",
    "                    parent[w]=vertex\n",
    "                    distance[w]=dist+graph[vertex][w]\n",
    "    return parent,distance\n",
    "parent,distance=dijkstra(graph,'A')\n",
    "print(parent)\n",
    "print(distance)"
   ]
  },
  {
   "cell_type": "code",
   "execution_count": null,
   "metadata": {
    "collapsed": true
   },
   "outputs": [],
   "source": []
  }
 ],
 "metadata": {
  "kernelspec": {
   "display_name": "Python 3",
   "language": "python",
   "name": "python3"
  },
  "language_info": {
   "codemirror_mode": {
    "name": "ipython",
    "version": 3
   },
   "file_extension": ".py",
   "mimetype": "text/x-python",
   "name": "python",
   "nbconvert_exporter": "python",
   "pygments_lexer": "ipython3",
   "version": "3.6.1"
  }
 },
 "nbformat": 4,
 "nbformat_minor": 2
}
