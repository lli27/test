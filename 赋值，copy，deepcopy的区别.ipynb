{
 "cells": [
  {
   "cell_type": "markdown",
   "metadata": {},
   "source": [
    "参考网址：https://iaman.actor/blog/2016/04/17/copy-in-python"
   ]
  },
  {
   "cell_type": "markdown",
   "metadata": {},
   "source": [
    "> **deepcopy 深复制，将复制对象完全复制一遍作为一个新个体存在。改变新个体不会影响原对象。**"
   ]
  },
  {
   "cell_type": "code",
   "execution_count": 1,
   "metadata": {},
   "outputs": [
    {
     "name": "stdout",
     "output_type": "stream",
     "text": [
      "[4, 7, 1, 8, 5]\n",
      "[1, 4, 8, 7, 5]\n"
     ]
    }
   ],
   "source": [
    "import random\n",
    "import copy\n",
    "rd1=random.sample(range(10),5)\n",
    "rd2=copy.deepcopy(rd1)\n",
    "random.shuffle(rd2)\n",
    "print(rd2)\n",
    "print(rd1)"
   ]
  },
  {
   "cell_type": "markdown",
   "metadata": {},
   "source": [
    "> = **等于赋值，并不会产生新个体，ID值不变。故标签改变，原对象也会变。**"
   ]
  },
  {
   "cell_type": "code",
   "execution_count": 2,
   "metadata": {},
   "outputs": [
    {
     "name": "stdout",
     "output_type": "stream",
     "text": [
      "[4, 9, 5, 7, 3]\n",
      "[4, 9, 5, 7, 3]\n"
     ]
    }
   ],
   "source": [
    "import random\n",
    "rd1=random.sample(range(10),5)\n",
    "rd2=rd1\n",
    "random.shuffle(rd2)\n",
    "print(rd2)\n",
    "print(rd1)"
   ]
  },
  {
   "cell_type": "markdown",
   "metadata": {},
   "source": [
    "> **copy 浅复制，分两种情况： ** \n",
    "**当浅复制的值是不可变对象（数值、字符串、元组）时和等于赋值一样，不会产生独立个体。  <br>**\n",
    "**当浅复制的值是可变对象（列表、字典）时，对原复制对象进行不完全复制，分两种情况：   **\n",
    ">> **复制的对象中无复杂子对象，同deepcopy。    <br>** \n",
    ">> **复制的对象中有复杂子对象（例如列表中的一个子元素是一个列表），如果不改变其中复杂子对象，浅复制的值改变并不会影响原来的值。但是改变原来的值中复杂字对象的值，会影响浅复制的值。**"
   ]
  },
  {
   "cell_type": "code",
   "execution_count": 20,
   "metadata": {},
   "outputs": [
    {
     "name": "stdout",
     "output_type": "stream",
     "text": [
      "True\n",
      "True\n",
      "True\n",
      "False\n",
      "False\n"
     ]
    }
   ],
   "source": [
    "import copy\n",
    "a=((1,2),(2,3))\n",
    "b=copy.copy(a)\n",
    "print(id(a)==id(b))\n",
    "a=1\n",
    "b=copy.copy(a)\n",
    "print(id(a)==id(b))\n",
    "a='adsswe'\n",
    "b=copy.copy(a)\n",
    "print(id(a)==id(b))\n",
    "a=[1,2,3,4]\n",
    "b=copy.copy(a)\n",
    "print(id(a)==id(b))\n",
    "a={'a':1,'e':2}\n",
    "b=copy.copy(a)\n",
    "print(id(a)==id(b))"
   ]
  },
  {
   "cell_type": "code",
   "execution_count": 24,
   "metadata": {},
   "outputs": [
    {
     "name": "stdout",
     "output_type": "stream",
     "text": [
      "False\n",
      "['1', [2, 3, 4]]\n",
      "['1', [2, 3, 4]]\n",
      "['a', [2, 3, 4]]\n",
      "['1', [2, 3, 4]]\n"
     ]
    }
   ],
   "source": [
    "import copy\n",
    "a=['1',[2,3]]\n",
    "b=copy.copy(a)\n",
    "print(id(a)==id(b))\n",
    "a[1].append(4)\n",
    "print(a)\n",
    "print(b)\n",
    "a[0]='a'\n",
    "print(a)\n",
    "print(b)"
   ]
  },
  {
   "cell_type": "markdown",
   "metadata": {},
   "source": [
    "> **python的可变类型和不可变类型**<br>\n",
    "python的每个对象都分为可变和不可变，主要的核心类型中，数值，字符串，元组是不可变的，列表，字典是可变的。\n",
    "元组，字符串中的元素无法通过直接赋值的方式改变"
   ]
  },
  {
   "cell_type": "code",
   "execution_count": 47,
   "metadata": {},
   "outputs": [
    {
     "name": "stdout",
     "output_type": "stream",
     "text": [
      "(1, 2)\n"
     ]
    },
    {
     "ename": "TypeError",
     "evalue": "'tuple' object does not support item assignment",
     "output_type": "error",
     "traceback": [
      "\u001b[1;31m---------------------------------------------------------------------------\u001b[0m",
      "\u001b[1;31mTypeError\u001b[0m                                 Traceback (most recent call last)",
      "\u001b[1;32m<ipython-input-47-20f535f2c4cb>\u001b[0m in \u001b[0;36m<module>\u001b[1;34m()\u001b[0m\n\u001b[0;32m      1\u001b[0m \u001b[0ma\u001b[0m\u001b[1;33m=\u001b[0m\u001b[1;33m(\u001b[0m\u001b[1;33m(\u001b[0m\u001b[1;36m1\u001b[0m\u001b[1;33m,\u001b[0m\u001b[1;36m2\u001b[0m\u001b[1;33m)\u001b[0m\u001b[1;33m,\u001b[0m\u001b[1;33m(\u001b[0m\u001b[1;36m2\u001b[0m\u001b[1;33m,\u001b[0m\u001b[1;36m3\u001b[0m\u001b[1;33m)\u001b[0m\u001b[1;33m)\u001b[0m\u001b[1;33m\u001b[0m\u001b[0m\n\u001b[0;32m      2\u001b[0m \u001b[0mprint\u001b[0m\u001b[1;33m(\u001b[0m\u001b[0ma\u001b[0m\u001b[1;33m[\u001b[0m\u001b[1;36m0\u001b[0m\u001b[1;33m]\u001b[0m\u001b[1;33m)\u001b[0m\u001b[1;33m\u001b[0m\u001b[0m\n\u001b[1;32m----> 3\u001b[1;33m \u001b[0ma\u001b[0m\u001b[1;33m[\u001b[0m\u001b[1;36m0\u001b[0m\u001b[1;33m]\u001b[0m\u001b[1;33m=\u001b[0m\u001b[1;33m(\u001b[0m\u001b[1;36m3\u001b[0m\u001b[1;33m,\u001b[0m\u001b[1;36m4\u001b[0m\u001b[1;33m)\u001b[0m\u001b[1;33m\u001b[0m\u001b[0m\n\u001b[0m",
      "\u001b[1;31mTypeError\u001b[0m: 'tuple' object does not support item assignment"
     ]
    }
   ],
   "source": [
    "a=((1,2),(2,3))\n",
    "print(a[0])\n",
    "a[0]=(3,4)"
   ]
  },
  {
   "cell_type": "code",
   "execution_count": 48,
   "metadata": {},
   "outputs": [
    {
     "name": "stdout",
     "output_type": "stream",
     "text": [
      "1\n"
     ]
    },
    {
     "ename": "TypeError",
     "evalue": "'str' object does not support item assignment",
     "output_type": "error",
     "traceback": [
      "\u001b[1;31m---------------------------------------------------------------------------\u001b[0m",
      "\u001b[1;31mTypeError\u001b[0m                                 Traceback (most recent call last)",
      "\u001b[1;32m<ipython-input-48-efc87fcdfdb4>\u001b[0m in \u001b[0;36m<module>\u001b[1;34m()\u001b[0m\n\u001b[0;32m      1\u001b[0m \u001b[0ma\u001b[0m\u001b[1;33m=\u001b[0m\u001b[1;34m'1wed'\u001b[0m\u001b[1;33m\u001b[0m\u001b[0m\n\u001b[0;32m      2\u001b[0m \u001b[0mprint\u001b[0m\u001b[1;33m(\u001b[0m\u001b[0ma\u001b[0m\u001b[1;33m[\u001b[0m\u001b[1;36m0\u001b[0m\u001b[1;33m]\u001b[0m\u001b[1;33m)\u001b[0m\u001b[1;33m\u001b[0m\u001b[0m\n\u001b[1;32m----> 3\u001b[1;33m \u001b[0ma\u001b[0m\u001b[1;33m[\u001b[0m\u001b[1;36m0\u001b[0m\u001b[1;33m]\u001b[0m\u001b[1;33m=\u001b[0m\u001b[1;34m'w'\u001b[0m\u001b[1;33m\u001b[0m\u001b[0m\n\u001b[0m",
      "\u001b[1;31mTypeError\u001b[0m: 'str' object does not support item assignment"
     ]
    }
   ],
   "source": [
    "a='1wed'\n",
    "print(a[0])\n",
    "a[0]='w'"
   ]
  },
  {
   "cell_type": "code",
   "execution_count": 49,
   "metadata": {},
   "outputs": [
    {
     "name": "stdout",
     "output_type": "stream",
     "text": [
      "1414720080\n",
      "1414720112\n"
     ]
    }
   ],
   "source": [
    "a=5\n",
    "print(id(a))\n",
    "a+=1\n",
    "print(id(a))"
   ]
  },
  {
   "cell_type": "markdown",
   "metadata": {},
   "source": [
    "对于int类型变量a,执行加1后，ID改变，因为int类型是不可变的，它会重新创建一个不可变类型的对象，并将原来的变量指向新创建的对象。而对于可变类型来说，执行此操作，ID不改变。"
   ]
  },
  {
   "cell_type": "code",
   "execution_count": 54,
   "metadata": {},
   "outputs": [
    {
     "name": "stdout",
     "output_type": "stream",
     "text": [
      "3186830096072\n",
      "3186830096072\n"
     ]
    }
   ],
   "source": [
    "a=[1,2,3]\n",
    "print(id(a))\n",
    "a[0]+=1\n",
    "print(id(a))"
   ]
  },
  {
   "cell_type": "markdown",
   "metadata": {},
   "source": [
    "如果变量的值在训练过程中会不断改变，要尤其小心。"
   ]
  },
  {
   "cell_type": "code",
   "execution_count": 51,
   "metadata": {},
   "outputs": [
    {
     "name": "stdout",
     "output_type": "stream",
     "text": [
      "a= [1, 2, 3] id= 3186829270088\n",
      "b= [1, 2, 3] id= 3186829270088\n",
      "a= [3, 4, 5] id= 3186829980936\n",
      "b= [1, 2, 3] id= 3186829270088\n"
     ]
    }
   ],
   "source": [
    "a=[1,2,3]\n",
    "b=a\n",
    "print('a=',a,'id=',id(a))\n",
    "print('b=',b,'id=',id(b))\n",
    "a=[3,4,5]\n",
    "print('a=',a,'id=',id(a))\n",
    "print('b=',b,'id=',id(b))"
   ]
  },
  {
   "cell_type": "code",
   "execution_count": 44,
   "metadata": {},
   "outputs": [
    {
     "name": "stdout",
     "output_type": "stream",
     "text": [
      "a= [1, 2, 3] id= 3186830088840\n",
      "b= [1, 2, 3] id= 3186830088840\n",
      "a= [3, 5, 5] id= 3186830088840\n",
      "b= [3, 5, 5] id= 3186830088840\n"
     ]
    }
   ],
   "source": [
    "a=[1,2,3]\n",
    "b=a\n",
    "print('a=',a,'id=',id(a))\n",
    "print('b=',b,'id=',id(b))\n",
    "a[0]=3;a[1]=5;a[2]=5\n",
    "print('a=',a,'id=',id(a))\n",
    "print('b=',b,'id=',id(b))"
   ]
  },
  {
   "cell_type": "markdown",
   "metadata": {},
   "source": [
    "第一种情况，对a重新赋值，相当于把a的标签从原ID对应的值[1,2,3]上撕下来，贴在新ID对应的值[3,4,5]上。a的ID改变，值改变。但是b的ID没有变，所以它的值也没有变。第二种情况，是改变ID对应的值，a和b的ID都没变，但是此ID对应的值变了，所以a和b都改变了，ID相同，故a,b的值也相同。"
   ]
  }
 ],
 "metadata": {
  "kernelspec": {
   "display_name": "Python 3",
   "language": "python",
   "name": "python3"
  },
  "language_info": {
   "codemirror_mode": {
    "name": "ipython",
    "version": 3
   },
   "file_extension": ".py",
   "mimetype": "text/x-python",
   "name": "python",
   "nbconvert_exporter": "python",
   "pygments_lexer": "ipython3",
   "version": "3.6.1"
  }
 },
 "nbformat": 4,
 "nbformat_minor": 2
}
