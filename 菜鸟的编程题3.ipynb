{
 "cells": [
  {
   "cell_type": "code",
   "execution_count": 9,
   "metadata": {},
   "outputs": [
    {
     "name": "stdout",
     "output_type": "stream",
     "text": [
      "d\n"
     ]
    }
   ],
   "source": [
    "x=[i for i in input().split()]"
   ]
  },
  {
   "cell_type": "code",
   "execution_count": 12,
   "metadata": {},
   "outputs": [
    {
     "name": "stdout",
     "output_type": "stream",
     "text": [
      "1\n",
      "ZEROONETWO\n",
      "234\n"
     ]
    }
   ],
   "source": [
    "T=int(input())\n",
    "for i in range(T):\n",
    "    s=input()\n",
    "    #ZERO,TWO,FOUR,SIX,EIGHT均有独立的字母标识Z,W,U,X,G，且对应数字为2,4,6,8,0\n",
    "    n2,n4,n6,n8,n0=s.count('Z'),s.count('W'),s.count('U'),s.count('X'),s.count('G')\n",
    "    #去除上述单词后，ONE,THREE,FIVE,SEVEN可分别由O,T,F,S标识，且对应数字为3,5,7，9\n",
    "    n3,n5,n7,n9=s.count('O')-n2-n4-n6,s.count('T')-n4-n0,s.count('F')-n6,s.count('S')-n8\n",
    "    n1=s.count('I')-n7-n8-n0#最后剩余单词NINE由I标识，对应数字为1\n",
    "    print('0'*n0+'1'*n1+'2'*n2+'3'*n3+'4'*n4+'5'*n5+'6'*n6+'7'*n7+'8'*n8+'9'*n9)"
   ]
  },
  {
   "cell_type": "markdown",
   "metadata": {},
   "source": [
    "### 三种逆序"
   ]
  }
 ],
 "metadata": {
  "kernelspec": {
   "display_name": "Python 3",
   "language": "python",
   "name": "python3"
  },
  "language_info": {
   "codemirror_mode": {
    "name": "ipython",
    "version": 3
   },
   "file_extension": ".py",
   "mimetype": "text/x-python",
   "name": "python",
   "nbconvert_exporter": "python",
   "pygments_lexer": "ipython3",
   "version": "3.6.1"
  }
 },
 "nbformat": 4,
 "nbformat_minor": 2
}
