{
 "cells": [
  {
   "cell_type": "markdown",
   "metadata": {},
   "source": [
    "### 三种逆序"
   ]
  },
  {
   "cell_type": "markdown",
   "metadata": {},
   "source": [
    "给定一个句子（只包含字母和空格）， 将句子中的单词位置反转，单词用空格分割, 单词之间只有一个空格，前后没有空格。 输入 hello xiao mi  输出  mi xiao hello"
   ]
  },
  {
   "cell_type": "code",
   "execution_count": 12,
   "metadata": {},
   "outputs": [
    {
     "name": "stdout",
     "output_type": "stream",
     "text": [
      "hello xiao mi\n",
      "mi xiao hello\n"
     ]
    }
   ],
   "source": [
    "v=input().split()\n",
    "v.reverse()\n",
    "print(' '.join(v))"
   ]
  },
  {
   "cell_type": "code",
   "execution_count": 33,
   "metadata": {},
   "outputs": [
    {
     "name": "stdout",
     "output_type": "stream",
     "text": [
      "hello xiao mi\n",
      "mi xiao hello\n"
     ]
    }
   ],
   "source": [
    "v=input().split()\n",
    "print(' '.join(reversed(v)))"
   ]
  },
  {
   "cell_type": "code",
   "execution_count": 13,
   "metadata": {},
   "outputs": [
    {
     "name": "stdout",
     "output_type": "stream",
     "text": [
      "hello xiao mi\n",
      "mi xiao hello\n"
     ]
    }
   ],
   "source": [
    "print(' '.join(input().split()[::-1]))"
   ]
  },
  {
   "cell_type": "code",
   "execution_count": 35,
   "metadata": {},
   "outputs": [
    {
     "name": "stdout",
     "output_type": "stream",
     "text": [
      "hello xiao mi\n",
      "mi xiao hello\n"
     ]
    }
   ],
   "source": [
    "v=input().split()\n",
    "for i in range(len(v)-1,0,-1):\n",
    "    print(v[i],end=' ')\n",
    "print(v[0])"
   ]
  },
  {
   "cell_type": "markdown",
   "metadata": {},
   "source": [
    "继MIUI8推出手机分身功能之后，MIUI9计划推出一个电话号码分身的功能：首先将电话号码中的每个数字加上8取个位，然后使用对应的大写字母代替 （\"ZERO\", \"ONE\", \"TWO\", \"THREE\", \"FOUR\", \"FIVE\", \"SIX\", \"SEVEN\", \"EIGHT\", \"NINE\"）， 然后随机打乱这些字母，所生成的字符串即为电话号码对应的分身。给定字符串，找到对应的最小电话号码。"
   ]
  },
  {
   "cell_type": "markdown",
   "metadata": {},
   "source": [
    "密码反解：寻找能唯一代表这些英文单词的字母，首先ZERO-Z,TWO-W,FOUR-U,SIX-X,EIGHT-G，这些单词具有唯一标识，排除这些单词，ONE-O,THREE-T，FIVE-F,SEVEN-S,最后是NINE。0,1,2,3,4,5,6,7,8,9加上8之后取个位对应的单词(\"EIGHT\", \"NINE\",\"ZERO\", \"ONE\", \"TWO\", \"THREE\", \"FOUR\", \"FIVE\", \"SIX\", \"SEVEN\")"
   ]
  },
  {
   "cell_type": "code",
   "execution_count": 43,
   "metadata": {},
   "outputs": [
    {
     "name": "stdout",
     "output_type": "stream",
     "text": [
      "4\n",
      "EIGHT\n",
      "0\n",
      "ZEROTWOONE\n",
      "234\n",
      "OHWETENRTEO\n",
      "345\n",
      "OHEWTIEGTHENRTEO\n",
      "0345\n"
     ]
    }
   ],
   "source": [
    "n=int(input())\n",
    "for i in range(n):\n",
    "    v=input()\n",
    "    n2=v.count('Z')\n",
    "    n4=v.count('W')\n",
    "    n6=v.count('U')\n",
    "    n8=v.count('X')\n",
    "    n0=v.count('G')\n",
    "    n3=v.count('O')-n2-n4-n6\n",
    "    n5=v.count('T')-n4-n0\n",
    "    n7=v.count('F')-n6\n",
    "    n9=v.count('S')-n8\n",
    "    n1=v.count('I')-n8-n0-n7\n",
    "    print('0'*n0+'1'*n1+'2'*n2+'3'*n3+'4'*n4+'5'*n5+'6'*n6+'7'*n7+'8'*n8+'9'*n9)\n",
    "    "
   ]
  },
  {
   "cell_type": "markdown",
   "metadata": {},
   "source": [
    "转换为字符串的三种方式，对于数值，直接加''即可，对于变量，str(),repr()都可。"
   ]
  }
 ],
 "metadata": {
  "kernelspec": {
   "display_name": "Python 3",
   "language": "python",
   "name": "python3"
  },
  "language_info": {
   "codemirror_mode": {
    "name": "ipython",
    "version": 3
   },
   "file_extension": ".py",
   "mimetype": "text/x-python",
   "name": "python",
   "nbconvert_exporter": "python",
   "pygments_lexer": "ipython3",
   "version": "3.6.1"
  }
 },
 "nbformat": 4,
 "nbformat_minor": 2
}
