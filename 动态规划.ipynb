{
 "cells": [
  {
   "cell_type": "markdown",
   "metadata": {},
   "source": [
    "从数组中选择任意多个不相邻的数字，求最大和。[视频地址](https://www.bilibili.com/video/av18512769/?spm_id_from=333.788.videocard.0)"
   ]
  },
  {
   "cell_type": "markdown",
   "metadata": {},
   "source": [
    "动态规划的三个条件：递推公式，重叠子问题，边界条件。(自底往上)"
   ]
  },
  {
   "cell_type": "code",
   "execution_count": 3,
   "metadata": {},
   "outputs": [
    {
     "data": {
      "text/plain": [
       "15"
      ]
     },
     "execution_count": 3,
     "metadata": {},
     "output_type": "execute_result"
    }
   ],
   "source": [
    "arr=[1,2,4,1,7,8,3]\n",
    "def rec_opt(arr,i):\n",
    "    if i==0:\n",
    "        return arr[0]\n",
    "    elif i==1:\n",
    "        return max(arr[0],arr[1])\n",
    "    else:\n",
    "        A=rec_opt(arr,i-2)+arr[i]\n",
    "        B=rec_opt(arr,i-1)\n",
    "        return max(A,B)\n",
    "rec_opt(arr,6)"
   ]
  },
  {
   "cell_type": "markdown",
   "metadata": {},
   "source": [
    "非递归解法"
   ]
  },
  {
   "cell_type": "code",
   "execution_count": 6,
   "metadata": {},
   "outputs": [
    {
     "data": {
      "text/plain": [
       "15.0"
      ]
     },
     "execution_count": 6,
     "metadata": {},
     "output_type": "execute_result"
    }
   ],
   "source": [
    "import numpy as np\n",
    "arr=[1,2,4,1,7,8,3]\n",
    "def dp_opt(arr):\n",
    "    opt=np.zeros(len(arr))\n",
    "    opt[0]=arr[0]\n",
    "    opt[1]=max(arr[0],arr[1])\n",
    "    for i in range(2,len(arr)):\n",
    "        A=opt[i-2]+arr[i]\n",
    "        B=opt[i-1]\n",
    "        opt[i]=max(A,B)\n",
    "    return opt[len(arr)-1]\n",
    "dp_opt(arr)"
   ]
  },
  {
   "cell_type": "markdown",
   "metadata": {},
   "source": [
    "arr=[3,34,4,12,5,2]，给定数字M，从数组中选择任意个数字，使它们的和等于M，否则返回-1."
   ]
  }
 ],
 "metadata": {
  "kernelspec": {
   "display_name": "Python 3",
   "language": "python",
   "name": "python3"
  },
  "language_info": {
   "codemirror_mode": {
    "name": "ipython",
    "version": 3
   },
   "file_extension": ".py",
   "mimetype": "text/x-python",
   "name": "python",
   "nbconvert_exporter": "python",
   "pygments_lexer": "ipython3",
   "version": "3.6.1"
  }
 },
 "nbformat": 4,
 "nbformat_minor": 2
}
