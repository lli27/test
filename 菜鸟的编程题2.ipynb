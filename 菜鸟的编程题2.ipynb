{
 "cells": [
  {
   "cell_type": "markdown",
   "metadata": {},
   "source": [
    "### 现在有一棵合法的二叉树，树的节点都是用数字表示，现在给定这棵树上所有的父子关系，求这棵树的高度\n",
    "输入的第一行表示节点的个数n（1 ≤ n ≤ 1000，节点的编号为0到n-1）组成，下面是n-1行，每行有两个整数，第一个数表示父节点的编号，第二个数表示子节点的编号。<br>\n",
    "输出树的高度，为一个整数。<br>\n",
    "输入<br>\n",
    "5  \n",
    "0 1  \n",
    "0 2  \n",
    "1 3  \n",
    "1 4  \n",
    "输出<br>\n",
    "3"
   ]
  },
  {
   "cell_type": "code",
   "execution_count": 9,
   "metadata": {},
   "outputs": [
    {
     "name": "stdout",
     "output_type": "stream",
     "text": [
      "5\n",
      "0 1\n",
      "0 2\n",
      "1 3\n",
      "1 4\n",
      "3\n"
     ]
    }
   ],
   "source": [
    "n=int(input())\n",
    "tree={'0':[1,0]}\n",
    "for i in range(n-1):\n",
    "    parent,son=input().split()\n",
    "    if parent in tree and tree[parent][1]<2: #题目限定为二叉树，故将多余的部分剪掉。\n",
    "        tree[son]=[tree[parent][0]+1,0]\n",
    "        tree[parent][1]+=1\n",
    "deep=[x[0] for x in tree.values()]\n",
    "print(max(deep))"
   ]
  },
  {
   "cell_type": "code",
   "execution_count": 24,
   "metadata": {},
   "outputs": [
    {
     "name": "stdout",
     "output_type": "stream",
     "text": [
      "5\n",
      "0 1\n",
      "0 2\n",
      "1 3\n",
      "1 4\n",
      "3\n"
     ]
    }
   ],
   "source": [
    "def depth(tree,node,deep):\n",
    "    if node in tree:\n",
    "        depth1=depth(tree,tree[node][0],deep+1)\n",
    "        depth2=0\n",
    "        if len(tree[node])>1:\n",
    "            depth2=depth(tree,tree[node][1],deep+1)\n",
    "        return max(depth1,depth2)\n",
    "    else:\n",
    "        return deep\n",
    "            \n",
    "n=int(input())\n",
    "tree={}\n",
    "for i in range(n-1):        \n",
    "    v=[int(item) for item in input().split()]\n",
    "    tree.setdefault(v[0],[])\n",
    "    tree[v[0]].append(v[1])\n",
    "node=0\n",
    "deep=1\n",
    "print(depth(tree,node,deep))"
   ]
  },
  {
   "cell_type": "code",
   "execution_count": 23,
   "metadata": {},
   "outputs": [
    {
     "name": "stdout",
     "output_type": "stream",
     "text": [
      "3\n"
     ]
    }
   ],
   "source": [
    "node='0'\n",
    "deep=1\n",
    "print(depth(tree,node,deep))"
   ]
  },
  {
   "cell_type": "markdown",
   "metadata": {},
   "source": [
    "python字典setdefault()方法<br>\n",
    "setdefault()方法和get()方法类似，如果键不存在于字典中，将会添加键并将值设为默认值。<br>\n",
    ">dict.setdefault(key,default=None)<br>\n",
    "\n",
    "- key-查找的键值对\n",
    "- default-键不存在时，设置的默认值\n",
    "如果字典中包含有给定键，则返回该键对应的值，否则返回为该键设置的值。"
   ]
  },
  {
   "cell_type": "code",
   "execution_count": 14,
   "metadata": {},
   "outputs": [
    {
     "name": "stdout",
     "output_type": "stream",
     "text": [
      "value: 菜鸟编程\n",
      "value: lily\n"
     ]
    }
   ],
   "source": [
    "dict={'run':'菜鸟编程'}\n",
    "print('value: %s'% dict.setdefault('run',None))\n",
    "print('value: %s'% dict.setdefault('name','lily'))"
   ]
  },
  {
   "cell_type": "code",
   "execution_count": 15,
   "metadata": {},
   "outputs": [
    {
     "data": {
      "text/plain": [
       "{'name': 'lily', 'run': '菜鸟编程'}"
      ]
     },
     "execution_count": 15,
     "metadata": {},
     "output_type": "execute_result"
    }
   ],
   "source": [
    "dict"
   ]
  },
  {
   "cell_type": "markdown",
   "metadata": {},
   "source": [
    "get()方法<br>\n",
    "返回指定键的值，如果值不在字典中返回默认值。\n",
    "> dict.get(key,default=None)\n",
    "\n",
    "- key-字典中要查找的键。\n",
    "- default-如果指定键的值不存在时，返回该默认值。\n",
    "返回指定键的值，如果不存在返回默认值。"
   ]
  },
  {
   "cell_type": "code",
   "execution_count": 17,
   "metadata": {},
   "outputs": [
    {
     "name": "stdout",
     "output_type": "stream",
     "text": [
      "value: lily\n",
      "value: 秘密\n"
     ]
    }
   ],
   "source": [
    "print('value: %s'% dict.get('name'))\n",
    "print('value: %s'% dict.get('age','秘密'))"
   ]
  }
 ],
 "metadata": {
  "kernelspec": {
   "display_name": "Python 3",
   "language": "python",
   "name": "python3"
  },
  "language_info": {
   "codemirror_mode": {
    "name": "ipython",
    "version": 3
   },
   "file_extension": ".py",
   "mimetype": "text/x-python",
   "name": "python",
   "nbconvert_exporter": "python",
   "pygments_lexer": "ipython3",
   "version": "3.6.1"
  }
 },
 "nbformat": 4,
 "nbformat_minor": 2
}
